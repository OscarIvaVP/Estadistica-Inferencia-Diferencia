{
  "nbformat": 4,
  "nbformat_minor": 0,
  "metadata": {
    "colab": {
      "provenance": [],
      "authorship_tag": "ABX9TyMCgFDxI5p5PlbHOTmYWsQW"
    },
    "kernelspec": {
      "name": "python3",
      "display_name": "Python 3"
    },
    "language_info": {
      "name": "python"
    }
  },
  "cells": [
    {
      "cell_type": "markdown",
      "source": [
        "**Importar-Librerias**"
      ],
      "metadata": {
        "id": "UdQdp5b2XSwf"
      }
    },
    {
      "cell_type": "code",
      "source": [
        "pip install scikit-posthocs #SE INSTALA PARA DUNN"
      ],
      "metadata": {
        "id": "WN4BLzh6Lssz"
      },
      "execution_count": null,
      "outputs": []
    },
    {
      "cell_type": "code",
      "execution_count": null,
      "metadata": {
        "colab": {
          "base_uri": "https://localhost:8080/"
        },
        "id": "U_1MxqoVOEwn",
        "outputId": "08395204-07d1-4518-dfba-0c2e6bf0ff59"
      },
      "outputs": [
        {
          "output_type": "stream",
          "name": "stdout",
          "text": [
            "Mounted at /content/drive\n"
          ]
        }
      ],
      "source": [
        "import pandas as pd\n",
        "import numpy as np\n",
        "import matplotlib.pyplot as plt\n",
        "import seaborn as sns\n",
        "from scipy.stats import kstest, norm\n",
        "from scipy.stats import ttest_ind\n",
        "import scipy.stats as stats\n",
        "from scipy.stats import levene\n",
        "from itertools import combinations\n",
        "import statsmodels.api as sm\n",
        "from statsmodels.formula.api import ols\n",
        "from scipy.stats import kruskal\n",
        "import scikit_posthocs as sp\n",
        "from google.colab import drive\n",
        "drive.mount('/content/drive')"
      ]
    },
    {
      "cell_type": "markdown",
      "source": [
        "**Cargar datos**"
      ],
      "metadata": {
        "id": "AIiz2zsdXYE4"
      }
    },
    {
      "cell_type": "code",
      "source": [
        "datos = pd.read_excel(\"/content/drive/MyDrive/curso-est/corte-2/datos/datos_satisfaccion.xlsx\")\n",
        "datos.head()"
      ],
      "metadata": {
        "colab": {
          "base_uri": "https://localhost:8080/",
          "height": 206
        },
        "id": "k4cu6K-fQvQg",
        "outputId": "f8db7175-bd76-45e2-e16b-c0f0a5401d2d"
      },
      "execution_count": null,
      "outputs": [
        {
          "output_type": "execute_result",
          "data": {
            "text/plain": [
              "  Grupo Factor  Valor\n",
              "0    T1     0%      6\n",
              "1    T1     0%      8\n",
              "2    T1     0%      7\n",
              "3    T1     0%      8\n",
              "4    T2   0,5%      7"
            ],
            "text/html": [
              "\n",
              "  <div id=\"df-f12bc431-6227-43fe-af27-b5c15c90b52a\" class=\"colab-df-container\">\n",
              "    <div>\n",
              "<style scoped>\n",
              "    .dataframe tbody tr th:only-of-type {\n",
              "        vertical-align: middle;\n",
              "    }\n",
              "\n",
              "    .dataframe tbody tr th {\n",
              "        vertical-align: top;\n",
              "    }\n",
              "\n",
              "    .dataframe thead th {\n",
              "        text-align: right;\n",
              "    }\n",
              "</style>\n",
              "<table border=\"1\" class=\"dataframe\">\n",
              "  <thead>\n",
              "    <tr style=\"text-align: right;\">\n",
              "      <th></th>\n",
              "      <th>Grupo</th>\n",
              "      <th>Factor</th>\n",
              "      <th>Valor</th>\n",
              "    </tr>\n",
              "  </thead>\n",
              "  <tbody>\n",
              "    <tr>\n",
              "      <th>0</th>\n",
              "      <td>T1</td>\n",
              "      <td>0%</td>\n",
              "      <td>6</td>\n",
              "    </tr>\n",
              "    <tr>\n",
              "      <th>1</th>\n",
              "      <td>T1</td>\n",
              "      <td>0%</td>\n",
              "      <td>8</td>\n",
              "    </tr>\n",
              "    <tr>\n",
              "      <th>2</th>\n",
              "      <td>T1</td>\n",
              "      <td>0%</td>\n",
              "      <td>7</td>\n",
              "    </tr>\n",
              "    <tr>\n",
              "      <th>3</th>\n",
              "      <td>T1</td>\n",
              "      <td>0%</td>\n",
              "      <td>8</td>\n",
              "    </tr>\n",
              "    <tr>\n",
              "      <th>4</th>\n",
              "      <td>T2</td>\n",
              "      <td>0,5%</td>\n",
              "      <td>7</td>\n",
              "    </tr>\n",
              "  </tbody>\n",
              "</table>\n",
              "</div>\n",
              "    <div class=\"colab-df-buttons\">\n",
              "\n",
              "  <div class=\"colab-df-container\">\n",
              "    <button class=\"colab-df-convert\" onclick=\"convertToInteractive('df-f12bc431-6227-43fe-af27-b5c15c90b52a')\"\n",
              "            title=\"Convert this dataframe to an interactive table.\"\n",
              "            style=\"display:none;\">\n",
              "\n",
              "  <svg xmlns=\"http://www.w3.org/2000/svg\" height=\"24px\" viewBox=\"0 -960 960 960\">\n",
              "    <path d=\"M120-120v-720h720v720H120Zm60-500h600v-160H180v160Zm220 220h160v-160H400v160Zm0 220h160v-160H400v160ZM180-400h160v-160H180v160Zm440 0h160v-160H620v160ZM180-180h160v-160H180v160Zm440 0h160v-160H620v160Z\"/>\n",
              "  </svg>\n",
              "    </button>\n",
              "\n",
              "  <style>\n",
              "    .colab-df-container {\n",
              "      display:flex;\n",
              "      gap: 12px;\n",
              "    }\n",
              "\n",
              "    .colab-df-convert {\n",
              "      background-color: #E8F0FE;\n",
              "      border: none;\n",
              "      border-radius: 50%;\n",
              "      cursor: pointer;\n",
              "      display: none;\n",
              "      fill: #1967D2;\n",
              "      height: 32px;\n",
              "      padding: 0 0 0 0;\n",
              "      width: 32px;\n",
              "    }\n",
              "\n",
              "    .colab-df-convert:hover {\n",
              "      background-color: #E2EBFA;\n",
              "      box-shadow: 0px 1px 2px rgba(60, 64, 67, 0.3), 0px 1px 3px 1px rgba(60, 64, 67, 0.15);\n",
              "      fill: #174EA6;\n",
              "    }\n",
              "\n",
              "    .colab-df-buttons div {\n",
              "      margin-bottom: 4px;\n",
              "    }\n",
              "\n",
              "    [theme=dark] .colab-df-convert {\n",
              "      background-color: #3B4455;\n",
              "      fill: #D2E3FC;\n",
              "    }\n",
              "\n",
              "    [theme=dark] .colab-df-convert:hover {\n",
              "      background-color: #434B5C;\n",
              "      box-shadow: 0px 1px 3px 1px rgba(0, 0, 0, 0.15);\n",
              "      filter: drop-shadow(0px 1px 2px rgba(0, 0, 0, 0.3));\n",
              "      fill: #FFFFFF;\n",
              "    }\n",
              "  </style>\n",
              "\n",
              "    <script>\n",
              "      const buttonEl =\n",
              "        document.querySelector('#df-f12bc431-6227-43fe-af27-b5c15c90b52a button.colab-df-convert');\n",
              "      buttonEl.style.display =\n",
              "        google.colab.kernel.accessAllowed ? 'block' : 'none';\n",
              "\n",
              "      async function convertToInteractive(key) {\n",
              "        const element = document.querySelector('#df-f12bc431-6227-43fe-af27-b5c15c90b52a');\n",
              "        const dataTable =\n",
              "          await google.colab.kernel.invokeFunction('convertToInteractive',\n",
              "                                                    [key], {});\n",
              "        if (!dataTable) return;\n",
              "\n",
              "        const docLinkHtml = 'Like what you see? Visit the ' +\n",
              "          '<a target=\"_blank\" href=https://colab.research.google.com/notebooks/data_table.ipynb>data table notebook</a>'\n",
              "          + ' to learn more about interactive tables.';\n",
              "        element.innerHTML = '';\n",
              "        dataTable['output_type'] = 'display_data';\n",
              "        await google.colab.output.renderOutput(dataTable, element);\n",
              "        const docLink = document.createElement('div');\n",
              "        docLink.innerHTML = docLinkHtml;\n",
              "        element.appendChild(docLink);\n",
              "      }\n",
              "    </script>\n",
              "  </div>\n",
              "\n",
              "\n",
              "<div id=\"df-91a1a3b9-0a60-4693-9e2f-04bc420b3f05\">\n",
              "  <button class=\"colab-df-quickchart\" onclick=\"quickchart('df-91a1a3b9-0a60-4693-9e2f-04bc420b3f05')\"\n",
              "            title=\"Suggest charts.\"\n",
              "            style=\"display:none;\">\n",
              "\n",
              "<svg xmlns=\"http://www.w3.org/2000/svg\" height=\"24px\"viewBox=\"0 0 24 24\"\n",
              "     width=\"24px\">\n",
              "    <g>\n",
              "        <path d=\"M19 3H5c-1.1 0-2 .9-2 2v14c0 1.1.9 2 2 2h14c1.1 0 2-.9 2-2V5c0-1.1-.9-2-2-2zM9 17H7v-7h2v7zm4 0h-2V7h2v10zm4 0h-2v-4h2v4z\"/>\n",
              "    </g>\n",
              "</svg>\n",
              "  </button>\n",
              "\n",
              "<style>\n",
              "  .colab-df-quickchart {\n",
              "      --bg-color: #E8F0FE;\n",
              "      --fill-color: #1967D2;\n",
              "      --hover-bg-color: #E2EBFA;\n",
              "      --hover-fill-color: #174EA6;\n",
              "      --disabled-fill-color: #AAA;\n",
              "      --disabled-bg-color: #DDD;\n",
              "  }\n",
              "\n",
              "  [theme=dark] .colab-df-quickchart {\n",
              "      --bg-color: #3B4455;\n",
              "      --fill-color: #D2E3FC;\n",
              "      --hover-bg-color: #434B5C;\n",
              "      --hover-fill-color: #FFFFFF;\n",
              "      --disabled-bg-color: #3B4455;\n",
              "      --disabled-fill-color: #666;\n",
              "  }\n",
              "\n",
              "  .colab-df-quickchart {\n",
              "    background-color: var(--bg-color);\n",
              "    border: none;\n",
              "    border-radius: 50%;\n",
              "    cursor: pointer;\n",
              "    display: none;\n",
              "    fill: var(--fill-color);\n",
              "    height: 32px;\n",
              "    padding: 0;\n",
              "    width: 32px;\n",
              "  }\n",
              "\n",
              "  .colab-df-quickchart:hover {\n",
              "    background-color: var(--hover-bg-color);\n",
              "    box-shadow: 0 1px 2px rgba(60, 64, 67, 0.3), 0 1px 3px 1px rgba(60, 64, 67, 0.15);\n",
              "    fill: var(--button-hover-fill-color);\n",
              "  }\n",
              "\n",
              "  .colab-df-quickchart-complete:disabled,\n",
              "  .colab-df-quickchart-complete:disabled:hover {\n",
              "    background-color: var(--disabled-bg-color);\n",
              "    fill: var(--disabled-fill-color);\n",
              "    box-shadow: none;\n",
              "  }\n",
              "\n",
              "  .colab-df-spinner {\n",
              "    border: 2px solid var(--fill-color);\n",
              "    border-color: transparent;\n",
              "    border-bottom-color: var(--fill-color);\n",
              "    animation:\n",
              "      spin 1s steps(1) infinite;\n",
              "  }\n",
              "\n",
              "  @keyframes spin {\n",
              "    0% {\n",
              "      border-color: transparent;\n",
              "      border-bottom-color: var(--fill-color);\n",
              "      border-left-color: var(--fill-color);\n",
              "    }\n",
              "    20% {\n",
              "      border-color: transparent;\n",
              "      border-left-color: var(--fill-color);\n",
              "      border-top-color: var(--fill-color);\n",
              "    }\n",
              "    30% {\n",
              "      border-color: transparent;\n",
              "      border-left-color: var(--fill-color);\n",
              "      border-top-color: var(--fill-color);\n",
              "      border-right-color: var(--fill-color);\n",
              "    }\n",
              "    40% {\n",
              "      border-color: transparent;\n",
              "      border-right-color: var(--fill-color);\n",
              "      border-top-color: var(--fill-color);\n",
              "    }\n",
              "    60% {\n",
              "      border-color: transparent;\n",
              "      border-right-color: var(--fill-color);\n",
              "    }\n",
              "    80% {\n",
              "      border-color: transparent;\n",
              "      border-right-color: var(--fill-color);\n",
              "      border-bottom-color: var(--fill-color);\n",
              "    }\n",
              "    90% {\n",
              "      border-color: transparent;\n",
              "      border-bottom-color: var(--fill-color);\n",
              "    }\n",
              "  }\n",
              "</style>\n",
              "\n",
              "  <script>\n",
              "    async function quickchart(key) {\n",
              "      const quickchartButtonEl =\n",
              "        document.querySelector('#' + key + ' button');\n",
              "      quickchartButtonEl.disabled = true;  // To prevent multiple clicks.\n",
              "      quickchartButtonEl.classList.add('colab-df-spinner');\n",
              "      try {\n",
              "        const charts = await google.colab.kernel.invokeFunction(\n",
              "            'suggestCharts', [key], {});\n",
              "      } catch (error) {\n",
              "        console.error('Error during call to suggestCharts:', error);\n",
              "      }\n",
              "      quickchartButtonEl.classList.remove('colab-df-spinner');\n",
              "      quickchartButtonEl.classList.add('colab-df-quickchart-complete');\n",
              "    }\n",
              "    (() => {\n",
              "      let quickchartButtonEl =\n",
              "        document.querySelector('#df-91a1a3b9-0a60-4693-9e2f-04bc420b3f05 button');\n",
              "      quickchartButtonEl.style.display =\n",
              "        google.colab.kernel.accessAllowed ? 'block' : 'none';\n",
              "    })();\n",
              "  </script>\n",
              "</div>\n",
              "    </div>\n",
              "  </div>\n"
            ]
          },
          "metadata": {},
          "execution_count": 4
        }
      ]
    },
    {
      "cell_type": "markdown",
      "source": [
        "**Comprobar supuestos**"
      ],
      "metadata": {
        "id": "u3b_2a33VZA0"
      }
    },
    {
      "cell_type": "code",
      "source": [
        "unique_groups = datos['Grupo'].unique()\n",
        "\n",
        "plt.figure(figsize=(18, 6))\n",
        "for i, group in enumerate(unique_groups):\n",
        "    plt.subplot(3, len(unique_groups), i+1)\n",
        "    sns.histplot(datos[datos['Grupo'] == group]['Valor'], kde=True)\n",
        "    plt.title(f'Histogram of {group}')\n",
        "\n",
        "    plt.subplot(3, len(unique_groups), len(unique_groups) + i+1)\n",
        "    stats.probplot(datos[datos['Grupo'] == group]['Valor'], plot=plt)\n",
        "    plt.title(f'QQ-plot of {group}')\n",
        "\n",
        "    plt.subplot(3, len(unique_groups), 2*len(unique_groups) + i+1)\n",
        "    sns.boxplot(x=datos[datos['Grupo'] == group]['Valor'])\n",
        "    plt.title(f'Boxplot of {group}')\n",
        "\n",
        "plt.tight_layout()\n",
        "plt.show()"
      ],
      "metadata": {
        "colab": {
          "base_uri": "https://localhost:8080/",
          "height": 505
        },
        "id": "GGh279xJV82t",
        "outputId": "fab21ba5-d4e7-4ff0-a0eb-243533a16e9b"
      },
      "execution_count": null,
      "outputs": [
        {
          "output_type": "display_data",
          "data": {
            "text/plain": [
              "<Figure size 1800x600 with 12 Axes>"
            ],
            "image/png": "[encoded data removed]"
          },
          "metadata": {}
        }
      ]
    },
    {
      "cell_type": "markdown",
      "source": [
        "**PRUEBA SHAPIRO**"
      ],
      "metadata": {
        "id": "m4HU-Pj-tDGk"
      }
    },
    {
      "cell_type": "code",
      "source": [
        "shapiro_results = {}\n",
        "for group in unique_groups:\n",
        "    _, p_value = stats.shapiro(datos[datos['Grupo'] == group]['Valor'])\n",
        "    shapiro_results[group] = round(p_value, 4)\n",
        "\n",
        "print(\"Valores p de la prueba de Shapiro para cada grupo:\")\n",
        "for group, p_value in shapiro_results.items():\n",
        "    print(f\"  - Grupo {group}: {p_value}\")"
      ],
      "metadata": {
        "colab": {
          "base_uri": "https://localhost:8080/"
        },
        "id": "HDzy3HLFVYNi",
        "outputId": "c1ad065d-7ba0-4621-fe56-039b1b3e1071"
      },
      "execution_count": null,
      "outputs": [
        {
          "output_type": "stream",
          "name": "stdout",
          "text": [
            "Valores p de la prueba de Shapiro para cada grupo:\n",
            "  - Grupo T1: 0.2725\n",
            "  - Grupo T2: 0.9719\n",
            "  - Grupo T3: 0.22\n",
            "  - Grupo T4: 0.9719\n"
          ]
        }
      ]
    },
    {
      "cell_type": "markdown",
      "source": [
        "**PRUEBA KOLMOGOROV**"
      ],
      "metadata": {
        "id": "e59Hdj7AtHZz"
      }
    },
    {
      "cell_type": "code",
      "source": [
        "ks_results = {}\n",
        "for group in unique_groups:\n",
        "    values = datos[datos['Grupo'] == group]['Valor']\n",
        "    _, p_value = kstest(values, 'norm', args=(values.mean(), values.std()))\n",
        "    ks_results[group] = round(p_value, 4)\n",
        "\n",
        "print(\"Valores p de la prueba de Kolmogorov-Smirnov para cada grupo:\")\n",
        "for group, p_value in ks_results.items():\n",
        "    print(f\"  - Grupo {group}: {p_value}\")"
      ],
      "metadata": {
        "colab": {
          "base_uri": "https://localhost:8080/"
        },
        "id": "3iLH63heoToI",
        "outputId": "494c6467-fdb7-464b-b4ad-0d169217e40c"
      },
      "execution_count": null,
      "outputs": [
        {
          "output_type": "stream",
          "name": "stdout",
          "text": [
            "Valores p de la prueba de Kolmogorov-Smirnov para cada grupo:\n",
            "  - Grupo T1: 0.8207\n",
            "  - Grupo T2: 0.9998\n",
            "  - Grupo T3: 0.8558\n",
            "  - Grupo T4: 0.9998\n"
          ]
        }
      ]
    },
    {
      "cell_type": "markdown",
      "source": [
        "**PRUEBA - HOMOCEDASTICIDAD - LEVENE**"
      ],
      "metadata": {
        "id": "0rWWV_OitLhl"
      }
    },
    {
      "cell_type": "code",
      "source": [
        "unique_groups = datos['Grupo'].unique()\n",
        "group_values = [datos[datos['Grupo'] == group]['Valor'].tolist() for group in unique_groups]\n",
        "_, p_value = levene(*group_values)\n",
        "p_value_rounded = round(p_value, 4)\n",
        "p_value_rounded\n",
        "\n",
        "print(f\"Valor p de la prueba de Levene para todos los grupos: {p_value_rounded}\")"
      ],
      "metadata": {
        "colab": {
          "base_uri": "https://localhost:8080/"
        },
        "id": "AaZM4SdJbfvC",
        "outputId": "acff32f5-6168-4a6a-ac0f-7724f880d0ab"
      },
      "execution_count": null,
      "outputs": [
        {
          "output_type": "stream",
          "name": "stdout",
          "text": [
            "Valor p de la prueba de Levene para todos los grupos: 0.4485\n"
          ]
        }
      ]
    },
    {
      "cell_type": "markdown",
      "source": [
        "**Prueba Kruskall-Wallis**"
      ],
      "metadata": {
        "id": "yMXm89KKVdRJ"
      }
    },
    {
      "cell_type": "code",
      "source": [
        "grouped_data = [group['Valor'].tolist() for name, group in datos.groupby('Grupo')]\n",
        "kruskal_result = kruskal(*grouped_data)\n",
        "\n",
        "print(f\"Valor p de Kruskal-Wallis: {round(kruskal_result.pvalue, 4)}\")"
      ],
      "metadata": {
        "colab": {
          "base_uri": "https://localhost:8080/"
        },
        "id": "RywKEgFuqCxK",
        "outputId": "31da591c-e2c2-47ff-d667-05999e7815f8"
      },
      "execution_count": null,
      "outputs": [
        {
          "output_type": "stream",
          "name": "stdout",
          "text": [
            "Valor p de Kruskal-Wallis: 0.009\n"
          ]
        }
      ]
    },
    {
      "cell_type": "markdown",
      "source": [
        "**Prueba Dun**"
      ],
      "metadata": {
        "id": "qQWXDRODCLCm"
      }
    },
    {
      "cell_type": "code",
      "source": [
        "dunn_result = sp.posthoc_dunn(datos, val_col='Valor', group_col='Grupo', p_adjust='bonferroni')\n",
        "adjusted_p_values_df = dunn_result.stack().reset_index()\n",
        "adjusted_p_values_df.columns = ['Grupo1', 'Grupo2', 'Adjusted_P_Value']\n",
        "adjusted_p_values_df = adjusted_p_values_df.query(\"Grupo1 < Grupo2\").reset_index(drop=True)\n",
        "\n",
        "print(\"Valores p ajustados de la prueba de Dunn:\")\n",
        "print(adjusted_p_values_df)"
      ],
      "metadata": {
        "colab": {
          "base_uri": "https://localhost:8080/"
        },
        "id": "7yORDzWpqUtR",
        "outputId": "d49976af-95d7-45e2-c25b-ad700a330a0b"
      },
      "execution_count": null,
      "outputs": [
        {
          "output_type": "stream",
          "name": "stdout",
          "text": [
            "Valores p ajustados de la prueba de Dunn:\n",
            "  Grupo1 Grupo2  Adjusted_P_Value\n",
            "0     T1     T2          1.000000\n",
            "1     T1     T3          0.011337\n",
            "2     T1     T4          0.163199\n",
            "3     T2     T3          0.134403\n",
            "4     T2     T4          0.996171\n",
            "5     T3     T4          1.000000\n"
          ]
        }
      ]
    },
    {
      "cell_type": "markdown",
      "source": [
        "**Boxplot**"
      ],
      "metadata": {
        "id": "iJgt5we5qhRL"
      }
    },
    {
      "cell_type": "code",
      "source": [
        "plt.figure(figsize=(10, 6))\n",
        "sns.boxplot(x='Grupo', y='Valor', data=datos)\n",
        "plt.title('Boxplot of Groups')\n",
        "plt.xlabel('Grupo')\n",
        "plt.ylabel('Valor')\n",
        "plt.show()"
      ],
      "metadata": {
        "colab": {
          "base_uri": "https://localhost:8080/",
          "height": 564
        },
        "id": "RoaR9BlEYta0",
        "outputId": "1d8b85c5-fa17-436b-b7c9-f23e3aa58659"
      },
      "execution_count": null,
      "outputs": [
        {
          "output_type": "display_data",
          "data": {
            "text/plain": [
              "<Figure size 1000x600 with 1 Axes>"
            ],
            "image/png": "[encoded data removed]"
          },
          "metadata": {}
        }
      ]
    }
  ]
}